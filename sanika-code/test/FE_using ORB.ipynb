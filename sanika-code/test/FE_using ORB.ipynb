{
 "cells": [
  {
   "cell_type": "code",
   "execution_count": 2,
   "id": "8cf48489",
   "metadata": {},
   "outputs": [
    {
     "name": "stdout",
     "output_type": "stream",
     "text": [
      "Accuracy Score 0.25555555555555554\n"
     ]
    }
   ],
   "source": [
    "import numpy as np\n",
    "import cv2 \n",
    "import matplotlib.pyplot as plt\n",
    "from sklearn.decomposition import PCA\n",
    "import h5py\n",
    "from sklearn.model_selection import train_test_split\n",
    "from sklearn.svm import SVC \n",
    "from sklearn.metrics import accuracy_score\n",
    "\n",
    "# label_dict = {'good':0, 'holes_cuts':1, 'threaderror':2, 'oilstains_colorerror':3, 'wrinkles':4, 'foreignbodies':5}\n",
    "file_path = r\"C:\\Users\\LENOVO\\CV\\Automated-Fabric-Defect-Inspection\\textile_defect_data.hdF5\"\n",
    "imgs = h5py.File(file_path)['jute_defect_imgs'][:]\n",
    "labels = h5py.File(file_path)['jute_defect_labels'][:]\n",
    "# print(labels[200]) #{0:49-holecuts, 50:99-threaderror, 100:149-oilstains_colorerror, 150:199-wrinkles, 200:249-foreignbodies, 250:300-good }\n",
    "\n",
    "feature_vectors=[]\n",
    "\n",
    "#Initilaize orb detector\n",
    "orb = cv2.ORB_create(nfeatures = 20)\n",
    "# print(orb)\n",
    "\n",
    "for img in imgs:\n",
    "    \n",
    "    # Find the key points and descriptors with orb\n",
    "    kp,des = orb.detectAndCompute(img, None)  \n",
    "    feature_vector =des.flatten()\n",
    "    feature_vectors.append(feature_vector)\n",
    "#     feature_vectors.append(des)\n",
    "\n",
    "# print(des.shape)  #(20,32)\n",
    "feature_vectors = np.array(feature_vectors)\n",
    " \n",
    "# print(np.shape(feature_vectors))  #(300,20,32) (300,640)\n",
    "# print(feature_vectors[0])\n",
    "\n",
    "\n",
    "# cv2.imshow(\"images\",imgs[200]) \n",
    "# img2 = cv2.drawKeypoints(imgs[200], kp, 0, (0, 255, 0), flags=cv2.DRAW_MATCHES_FLAGS_DRAW_RICH_KEYPOINTS)\n",
    "# cv2.imshow(\"image\",img2)\n",
    "# cv2.waitKey(0)\n",
    "\n",
    "\n",
    "# svm\n",
    "x_train,x_test,y_train,y_test=train_test_split(feature_vectors,labels,test_size=0.3,random_state=42)\n",
    "classifier=SVC(decision_function_shape='ovo',kernel='rbf',random_state=42)\n",
    "classifier.fit(x_train,y_train)\n",
    "\n",
    "y_pred=classifier.predict(x_test)\n",
    "\n",
    "print(\"Accuracy Score\",accuracy_score(y_test,y_pred))\n",
    "\n",
    "    "
   ]
  },
  {
   "cell_type": "code",
   "execution_count": null,
   "id": "9c838bc0",
   "metadata": {},
   "outputs": [],
   "source": []
  }
 ],
 "metadata": {
  "kernelspec": {
   "display_name": "Python 3 (ipykernel)",
   "language": "python",
   "name": "python3"
  },
  "language_info": {
   "codemirror_mode": {
    "name": "ipython",
    "version": 3
   },
   "file_extension": ".py",
   "mimetype": "text/x-python",
   "name": "python",
   "nbconvert_exporter": "python",
   "pygments_lexer": "ipython3",
   "version": "3.9.13"
  }
 },
 "nbformat": 4,
 "nbformat_minor": 5
}
