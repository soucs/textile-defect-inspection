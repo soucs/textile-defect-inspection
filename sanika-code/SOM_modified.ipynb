{
 "cells": [
  {
   "attachments": {},
   "cell_type": "markdown",
   "metadata": {},
   "source": [
    "Understanding code"
   ]
  },
  {
   "cell_type": "code",
   "execution_count": 61,
   "metadata": {},
   "outputs": [],
   "source": [
    "import numpy as np\n",
    "import matplotlib.pyplot as plt\n",
    "# from sklearn.cluster import DBSCAN, AgglomerativeClustering\n",
    "from sklearn_som.som import SOM\n",
    "import h5py\n",
    "# from statistics import mode\n",
    "import cv2"
   ]
  },
  {
   "cell_type": "code",
   "execution_count": 62,
   "metadata": {},
   "outputs": [],
   "source": [
    "# label_dict = {'good':0, 'holes_cuts':1, 'threaderror':2, 'oilstains_colorerror':3, 'wrinkles':4, 'foreignbodies':5}\n",
    "file_path = r\"C:\\Users\\LENOVO\\Downloads\\textile_defect_data.hdF5\"\n",
    "imgs = h5py.File(file_path)['images'][:]\n",
    "labels = h5py.File(file_path)['labels'][:]\n",
    "fabrics = h5py.File(file_path)['fabric'][:]"
   ]
  },
  {
   "cell_type": "code",
   "execution_count": 63,
   "metadata": {},
   "outputs": [],
   "source": [
    "def resize_img(img):\n",
    "    dim = (500, 500)\n",
    "    return cv2.resize(img,dim,interpolation=cv2.INTER_AREA)"
   ]
  },
  {
   "cell_type": "code",
   "execution_count": 64,
   "metadata": {},
   "outputs": [],
   "source": [
    "def show(imgs):\n",
    "    try:\n",
    "        for i, img in enumerate(imgs):\n",
    "            cv2.imshow('img'+str(i),img)\n",
    "        cv2.waitKey(0)\n",
    "        cv2.destroyAllWindows()\n",
    "    except:\n",
    "        print('Invalid format to display')"
   ]
  },
  {
   "cell_type": "code",
   "execution_count": 65,
   "metadata": {},
   "outputs": [],
   "source": [
    "\n",
    "def blur(img):\n",
    "    ksize = (3,3)\n",
    "    return cv2.GaussianBlur(img, ksize, 0)\n"
   ]
  },
  {
   "cell_type": "code",
   "execution_count": 66,
   "metadata": {},
   "outputs": [
    {
     "name": "stdout",
     "output_type": "stream",
     "text": [
      "(500, 500)\n"
     ]
    }
   ],
   "source": [
    "i=200\n",
    "org_img,lab = resize_img(imgs[i]),labels[i]\n",
    "# print(type(org_img))\n",
    "\n",
    "img = blur(org_img)\n",
    "show([img,org_img])\n",
    "\n",
    "print(np.shape(img))"
   ]
  },
  {
   "cell_type": "code",
   "execution_count": 67,
   "metadata": {},
   "outputs": [
    {
     "name": "stdout",
     "output_type": "stream",
     "text": [
      "(10000, 25)\n"
     ]
    }
   ],
   "source": [
    "kernel =5\n",
    "part_img = []\n",
    "\n",
    "for r in range(0,500,kernel):\n",
    "    for c in range(0,500,kernel):\n",
    "        part = img[r:r+kernel,c:c+kernel].flatten()\n",
    "        part_img.append(part)\n",
    "        \n",
    "part_img = np.array(part_img)\n",
    "print(np.shape(part_img))"
   ]
  },
  {
   "cell_type": "code",
   "execution_count": 68,
   "metadata": {},
   "outputs": [
    {
     "name": "stdout",
     "output_type": "stream",
     "text": [
      "10000\n"
     ]
    }
   ],
   "source": [
    "m = 3\n",
    "n = 1\n",
    "clust = SOM(m = m, n = n, dim = kernel ** 2 )\n",
    "clust_img = clust.fit_predict(part_img)\n",
    "print(len(clust_img))"
   ]
  },
  {
   "cell_type": "code",
   "execution_count": 69,
   "metadata": {},
   "outputs": [],
   "source": [
    "k = 0\n",
    "shade = int(255/(m*n))\n",
    "# print(shade)\n",
    "for r in range(0,500,kernel):\n",
    "    for c in range(0,500,kernel):\n",
    "        for pi,p in enumerate(range(0,255,shade)):\n",
    "            # print(pi,p)\n",
    "             if clust_img[k] == pi:\n",
    "                img[r:r+kernel,c:c+kernel] = np.full(shape=(kernel,kernel),fill_value=p)\n",
    "        k+=1\n",
    "\n",
    "show([org_img,img])            "
   ]
  },
  {
   "cell_type": "code",
   "execution_count": 60,
   "metadata": {},
   "outputs": [],
   "source": [
    "# print(\"Cluster centers:\", clust.cluster_centers_)"
   ]
  }
 ],
 "metadata": {
  "kernelspec": {
   "display_name": "Python 3",
   "language": "python",
   "name": "python3"
  },
  "language_info": {
   "codemirror_mode": {
    "name": "ipython",
    "version": 3
   },
   "file_extension": ".py",
   "mimetype": "text/x-python",
   "name": "python",
   "nbconvert_exporter": "python",
   "pygments_lexer": "ipython3",
   "version": "3.11.2"
  },
  "orig_nbformat": 4
 },
 "nbformat": 4,
 "nbformat_minor": 2
}
