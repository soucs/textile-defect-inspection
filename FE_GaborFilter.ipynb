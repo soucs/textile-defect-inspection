{
 "cells": [
  {
   "cell_type": "code",
   "execution_count": 2,
   "id": "c97fd35f",
   "metadata": {},
   "outputs": [
    {
     "name": "stdout",
     "output_type": "stream",
     "text": [
      "Accuracy Score 0.17333333333333334\n"
     ]
    }
   ],
   "source": [
    "import cv2\n",
    "import numpy as np\n",
    "from matplotlib import pyplot as plt\n",
    "from sklearn.decomposition import PCA\n",
    "import h5py\n",
    "from sklearn.model_selection import train_test_split\n",
    "from sklearn.svm import SVC \n",
    "from sklearn.metrics import accuracy_score\n",
    "\n",
    "\n",
    "\n",
    "# label_dict = {'good':0, 'holes_cuts':1, 'threaderror':2, 'oilstains_colorerror':3, 'wrinkles':4, 'foreignbodies':5}\n",
    "file_path = r\"C:\\Users\\LENOVO\\CV\\Automated-Fabric-Defect-Inspection\\textile_defect_data.hdF5\"\n",
    "imgs = h5py.File(file_path)['jute_defect_imgs'][:]\n",
    "labels = h5py.File(file_path)['jute_defect_labels'][:]\n",
    "first_img = imgs[0];\n",
    "first_label = labels[0]\n",
    "\n",
    "kernels = []\n",
    "# Define the parameters for the Gabor filters\n",
    "ksize = 31  # Kernel size (odd value)\n",
    "sigma = 5  # Standard deviation of Gaussian kernel\n",
    "phi = 0  # Phase offset of sinusoidal factor\n",
    "orientations = [150]  # Orientation of the Gabor filters (in degrees)\n",
    "wavelengths = [10] # Wavelength of sinusoidal factor\n",
    "\n",
    "# Create the Gabor filters using the specified parameters\n",
    "for i in range(len(orientations)):\n",
    "    theta = np.radians(orientations[i])\n",
    "    lamda = wavelengths[i]\n",
    "    gamma = 0.5  # Spatial aspect ratio\n",
    "    kernel = cv2.getGaborKernel((ksize, ksize), sigma, theta, lamda, gamma, phi, ktype=cv2.CV_32F)\n",
    "    kernels.append(kernel)\n",
    "\n",
    "# Apply the Gabor filters to the image\n",
    "\n",
    "filtered_images =[]\n",
    "for img in imgs:\n",
    "    filtered_image = []\n",
    "    for kernel in kernels:\n",
    "        filtered = cv2.filter2D(img, cv2.CV_32F, kernel)\n",
    "        filtered_image.append(filtered)\n",
    "    filtered_images.append(filtered_image)\n",
    "\n",
    "   \n",
    "    \n",
    "\n",
    "# Extract statistical features from the filtered images\n",
    "feature_vector = []\n",
    "for filtered in filtered_images:\n",
    "    mean = np.mean(filtered)\n",
    "    var = np.var(filtered)\n",
    "    skew = np.mean(((filtered - mean) / var) ** 3)\n",
    "    kurt = np.mean(((filtered - mean) / var) ** 4) - 3\n",
    "    feature_vector.append([mean, var, skew, kurt])\n",
    "    \n",
    "feature_vector=np.array(feature_vector)    \n",
    "# print(feature_vector.shape)\n",
    "\n",
    "# # Principle components\n",
    "# pca=PCA()\n",
    "# principle_components=pca.fit_transform(vectors)\n",
    "# vector=np.reshape(vector)\n",
    "# vector =vector.reshape(len(vector),-1)\n",
    "\n",
    "# svm\n",
    "x_train,x_test,y_train,y_test=train_test_split(feature_vector,labels,test_size=0.25,random_state=42)\n",
    "classifier=SVC(decision_function_shape='ovo',kernel='linear',random_state=42)\n",
    "\n",
    "classifier.fit(x_train,y_train)\n",
    "\n",
    "y_pred=classifier.predict(x_test)\n",
    "\n",
    "print(\"Accuracy Score\",accuracy_score(y_test,y_pred))"
   ]
  }
 ],
 "metadata": {
  "kernelspec": {
   "display_name": "Python 3 (ipykernel)",
   "language": "python",
   "name": "python3"
  },
  "language_info": {
   "codemirror_mode": {
    "name": "ipython",
    "version": 3
   },
   "file_extension": ".py",
   "mimetype": "text/x-python",
   "name": "python",
   "nbconvert_exporter": "python",
   "pygments_lexer": "ipython3",
   "version": "3.9.13"
  }
 },
 "nbformat": 4,
 "nbformat_minor": 5
}
