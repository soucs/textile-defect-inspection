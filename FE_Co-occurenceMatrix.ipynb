{
 "cells": [
  {
   "cell_type": "code",
   "execution_count": 2,
   "id": "ddeacf56",
   "metadata": {},
   "outputs": [
    {
     "name": "stdout",
     "output_type": "stream",
     "text": [
      "300\n",
      "Accuracy Score 0.4666666666666667\n"
     ]
    }
   ],
   "source": [
    "import numpy as np\n",
    "import cv2 \n",
    "import matplotlib.pyplot as plt\n",
    "from sklearn.decomposition import PCA\n",
    "import h5py\n",
    "from sklearn.model_selection import train_test_split\n",
    "from sklearn.svm import SVC \n",
    "from sklearn.metrics import accuracy_score\n",
    "\n",
    "label_dict = {'good':0, 'holes_cuts':1, 'threaderror':2, 'oilstains_colorerror':3, 'wrinkles':4, 'foreignbodies':5}\n",
    "file_path = r\"C:\\Users\\LENOVO\\CV\\Automated-Fabric-Defect-Inspection\\textile_defect_data.hdF5\"\n",
    "imgs = h5py.File(file_path)['jute_defect_imgs'][:]\n",
    "labels = h5py.File(file_path)['jute_defect_labels'][:]\n",
    "\n",
    "# Define the displacement vector (1, 0) for horizontal pairs\n",
    "displacement = (1, 0)\n",
    "\n",
    "# Define the number of histogram bins\n",
    "num_bins = 256\n",
    "\n",
    "# Define the feature vector\n",
    "feature_vector = []\n",
    "\n",
    "for img in imgs:\n",
    "\n",
    "    # Calculate the co-occurrence matrix using OpenCV\n",
    "    hist = cv2.calcHist([img], [0], None, [num_bins], [0, num_bins])\n",
    "    hist_transpose = np.transpose(hist)\n",
    "    co_matrix = cv2.calcHist([img, img], [0, 1], None, [num_bins, num_bins], [0, num_bins, 0, num_bins], accumulate=False)\n",
    "\n",
    "    # Normalize the co-occurrence matrix\n",
    "    co_matrix_normalized = cv2.normalize(co_matrix, None, alpha=0, beta=1, norm_type=cv2.NORM_MINMAX)\n",
    "\n",
    "    # Calculate contrast\n",
    "    contrast = np.sum((co_matrix_normalized * np.arange(num_bins)[:, np.newaxis] - np.mean(co_matrix_normalized)) ** 2)\n",
    "\n",
    "    # Calculate energy\n",
    "    energy = np.sum(co_matrix_normalized ** 2)\n",
    "\n",
    "    # Calculate homogeneity\n",
    "    homogeneity = np.sum(co_matrix_normalized / (1 + np.abs(np.arange(num_bins)[:, np.newaxis] - np.arange(num_bins))))\n",
    "\n",
    "    # Calculate correlation\n",
    "    x, y = np.meshgrid(np.arange(num_bins), np.arange(num_bins))\n",
    "    correlation = np.sum((co_matrix_normalized * (x - np.mean(x)) * (y - np.mean(y))) / (np.std(x) * np.std(y)))\n",
    "\n",
    "    # Add the feature vector for the current image to the feature vector list\n",
    "    feature_vector.append([contrast, energy, homogeneity, correlation])\n",
    "\n",
    "# Convert the feature vector list to a numpy array\n",
    "feature_vector = np.array(feature_vector)\n",
    "\n",
    "# Print the feature vector for the first image\n",
    "print(len(feature_vector))\n",
    "\n",
    "# Principle components\n",
    "pca=PCA()\n",
    "principle_components=pca.fit_transform(feature_vector)\n",
    "\n",
    "# svm\n",
    "x_train,x_test,y_train,y_test=train_test_split(principle_components,labels,test_size=0.25,random_state=42)\n",
    "classifier=SVC(random_state=42)\n",
    "classifier.fit(x_train,y_train)\n",
    "\n",
    "y_pred=classifier.predict(x_test)\n",
    "\n",
    "print(\"Accuracy Score\",accuracy_score(y_test,y_pred))\n"
   ]
  }
 ],
 "metadata": {
  "kernelspec": {
   "display_name": "Python 3 (ipykernel)",
   "language": "python",
   "name": "python3"
  },
  "language_info": {
   "codemirror_mode": {
    "name": "ipython",
    "version": 3
   },
   "file_extension": ".py",
   "mimetype": "text/x-python",
   "name": "python",
   "nbconvert_exporter": "python",
   "pygments_lexer": "ipython3",
   "version": "3.9.13"
  }
 },
 "nbformat": 4,
 "nbformat_minor": 5
}
