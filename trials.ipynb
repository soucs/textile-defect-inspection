{
 "cells": [
  {
   "attachments": {},
   "cell_type": "markdown",
   "metadata": {},
   "source": [
    "# FAILED!!!"
   ]
  },
  {
   "cell_type": "code",
   "execution_count": 1,
   "metadata": {},
   "outputs": [],
   "source": [
    "import pandas as pd\n",
    "import matplotlib.pyplot as plt\n",
    "import numpy as np\n",
    "import cv2 as cv\n",
    "import h5py\n",
    "import pywt\n"
   ]
  },
  {
   "cell_type": "code",
   "execution_count": 2,
   "metadata": {},
   "outputs": [],
   "source": [
    "# label_dict = {'good':0, 'holes_cuts':1, 'threaderror':2, 'oilstains_colorerror':3, 'wrinkles':4, 'foreignbodies':5}\n",
    "file_path = r'/home/soucs/Python/textile-defect-inspection/dataset/textile_defect_data.hdF5'\n",
    "imgs = h5py.File(file_path)['jute_defect_imgs'][:]\n",
    "labels = h5py.File(file_path)['jute_defect_labels'][:]"
   ]
  },
  {
   "cell_type": "code",
   "execution_count": 8,
   "metadata": {},
   "outputs": [],
   "source": [
    "def IMG(i):\n",
    "    return resize_img(imgs[i])\n",
    "def resize_img(img):\n",
    "    dim = (500, 500)\n",
    "    return cv.resize(img,dim,interpolation=cv.INTER_AREA)\n",
    "def show(imgs):\n",
    "    for i, img in enumerate(imgs):\n",
    "        cv.imshow('img'+str(i),img)\n",
    "    cv.waitKey(0)\n",
    "    cv.destroyAllWindows()"
   ]
  },
  {
   "cell_type": "code",
   "execution_count": 4,
   "metadata": {},
   "outputs": [],
   "source": [
    "# def coMat(img,levels = 256):\n",
    "#     # Define the distance and angle offsets for co-occurrence\n",
    "#     d = 1\n",
    "#     theta = 0\n",
    "#     # Compute the co-occurrence matrix\n",
    "#     co_mat = np.zeros((levels, levels), dtype=np.uint32)\n",
    "#     for i in range(d, img.shape[0]):\n",
    "#         for j in range(d, img.shape[1]):\n",
    "#             i_index = img[i, j]\n",
    "#             j_index = img[i-d, j+theta]\n",
    "#             co_mat[i_index, j_index] += 1\n",
    "#     # Normalize the co-occurrence matrix\n",
    "#     co_mat = co_mat.astype(np.float64)\n",
    "#     co_mat /= np.sum(co_mat)\n",
    "#     # Print the co-occurrence matrix\n",
    "#     return co_mat"
   ]
  },
  {
   "cell_type": "code",
   "execution_count": 5,
   "metadata": {},
   "outputs": [],
   "source": [
    "def get_cor(img):\n",
    "    cor_li = {}\n",
    "    step, ksize = 10, 100\n",
    "    # imgk = img[:100,:100]\n",
    "    for i in range(step,400,step):\n",
    "        for j in range(step,400,step):\n",
    "            corr_coef = np.corrcoef(img[i:100+i,j:100+j].reshape(-1), img[i-step:100+i-step,j-step:100+j-step].reshape(-1))[0, 1]\n",
    "            corr = abs(round(corr_coef,2))\n",
    "            val = (i,j)\n",
    "            if corr in cor_li.keys():\n",
    "                cor_li[corr].append(val)\n",
    "            else:\n",
    "                cor_li[corr] = [val]\n",
    "    return cor_li\n",
    "def correlation_feature(img):\n",
    "    c = get_cor(img)\n",
    "    feature = 0\n",
    "    for key in sorted(c):\n",
    "        if key<=0.1:\n",
    "            feature+=len(c[key])\n",
    "        else:\n",
    "            break\n",
    "    return (feature)"
   ]
  },
  {
   "cell_type": "code",
   "execution_count": 6,
   "metadata": {},
   "outputs": [],
   "source": [
    "col = []\n",
    "for img in imgs:\n",
    "    feature = correlation_feature(img)\n",
    "    col.append(feature)"
   ]
  },
  {
   "cell_type": "code",
   "execution_count": 32,
   "metadata": {},
   "outputs": [
    {
     "data": {
      "text/plain": [
       "<Axes: xlabel='y', ylabel='x'>"
      ]
     },
     "execution_count": 32,
     "metadata": {},
     "output_type": "execute_result"
    },
    {
     "data": {
      "image/png": "[encoded data removed]",
      "text/plain": [
       "<Figure size 640x480 with 1 Axes>"
      ]
     },
     "metadata": {},
     "output_type": "display_data"
    }
   ],
   "source": [
    "df = pd.DataFrame({'x':col,'y':labels})\n",
    "df.plot.scatter('y','x')"
   ]
  },
  {
   "cell_type": "code",
   "execution_count": 18,
   "metadata": {},
   "outputs": [],
   "source": [
    "from sklearn.svm import SVC\n",
    "from sklearn.model_selection import train_test_split\n",
    "from sklearn.metrics import accuracy_score, confusion_matrix\n",
    "from sklearn.decomposition import PCA"
   ]
  },
  {
   "cell_type": "code",
   "execution_count": 71,
   "metadata": {},
   "outputs": [],
   "source": [
    "df = pd.DataFrame({'x':col,'y':labels})\n",
    "df1 = pd.read_csv('/home/soucs/Python/textile-defect-inspection/dataset/hist_features.csv')\n",
    "df = pd.concat([df1, df], axis=1)"
   ]
  },
  {
   "cell_type": "code",
   "execution_count": 72,
   "metadata": {},
   "outputs": [],
   "source": [
    "X = df[['c1','c2','c3','c4','c5','x']]\n",
    "y = df['y']\n",
    "\n",
    "X_train, X_test, y_train, y_test = train_test_split(X,y, test_size=0.3, random_state=1)\n",
    "\n",
    "pca = PCA(n_components=1)\n",
    "X_train_pca = pd.DataFrame(pca.fit_transform(X_train[['c1','c2','c3','c4','c5']])).set_index(X_train[['x']].index)\n",
    "X_test_pca = pd.DataFrame(pca.transform(X_test[['c1','c2','c3','c4','c5']])).set_index(X_test[['x']].index)\n",
    "\n",
    "X_train = pd.concat([X_train_pca,X_train[['x']]],axis = 1)\n",
    "X_test = pd.concat([X_test_pca,X_test[['x']]], axis=1)"
   ]
  },
  {
   "cell_type": "code",
   "execution_count": 73,
   "metadata": {},
   "outputs": [],
   "source": [
    "X_train.rename(columns = {0:'TEST'}, inplace = True)\n",
    "X_test.rename(columns = {0:'TEST'}, inplace = True)"
   ]
  },
  {
   "cell_type": "code",
   "execution_count": 74,
   "metadata": {},
   "outputs": [
    {
     "name": "stdout",
     "output_type": "stream",
     "text": [
      "0.3333333333333333\n",
      "[[ 6  0  0  0  0  8]\n",
      " [ 1  4  3  1  1  4]\n",
      " [ 4  1  1  2  1  5]\n",
      " [ 4  2  0  2  2  5]\n",
      " [ 0  1  0  2 12  3]\n",
      " [ 5  2  2  1  0  5]]\n"
     ]
    }
   ],
   "source": [
    "# SVM Classification\n",
    "svc = SVC(decision_function_shape='ovo')\n",
    "svc = SVC()\n",
    "\n",
    "svc.fit(X_train, y_train)\n",
    "y_pred = svc.predict(X_test)\n",
    "\n",
    "print(accuracy_score(y_test, y_pred)) \n",
    "print(confusion_matrix(y_test, y_pred))"
   ]
  },
  {
   "attachments": {},
   "cell_type": "markdown",
   "metadata": {},
   "source": [
    "# Test"
   ]
  },
  {
   "cell_type": "code",
   "execution_count": 2,
   "metadata": {},
   "outputs": [],
   "source": [
    "file_path = r'/home/soucs/Python/textile-defect-inspection/dataset/textile_defect_data.hdF5'\n",
    "imgs = h5py.File(file_path)['images'][:]\n",
    "labels = h5py.File(file_path)['labels'][:]\n",
    "fabric = h5py.File(file_path)['fabric'][:]"
   ]
  },
  {
   "cell_type": "code",
   "execution_count": 3,
   "metadata": {},
   "outputs": [
    {
     "data": {
      "text/plain": [
       "((1199, 512, 768), (1199,), (1199,))"
      ]
     },
     "execution_count": 3,
     "metadata": {},
     "output_type": "execute_result"
    }
   ],
   "source": [
    "imgs.shape,labels.shape,fabric.shape"
   ]
  },
  {
   "cell_type": "code",
   "execution_count": 10,
   "metadata": {},
   "outputs": [
    {
     "name": "stderr",
     "output_type": "stream",
     "text": [
      "qt.qpa.plugin: Could not find the Qt platform plugin \"wayland\" in \"/home/soucs/Python/textile-defect-inspection/textile-venv/lib/python3.10/site-packages/cv2/qt/plugins\"\n"
     ]
    }
   ],
   "source": [
    "show([imgs[0],imgs[350],imgs[-1]])"
   ]
  }
 ],
 "metadata": {
  "kernelspec": {
   "display_name": "venv",
   "language": "python",
   "name": "python3"
  },
  "language_info": {
   "codemirror_mode": {
    "name": "ipython",
    "version": 3
   },
   "file_extension": ".py",
   "mimetype": "text/x-python",
   "name": "python",
   "nbconvert_exporter": "python",
   "pygments_lexer": "ipython3",
   "version": "3.10.6"
  },
  "orig_nbformat": 4
 },
 "nbformat": 4,
 "nbformat_minor": 2
}
