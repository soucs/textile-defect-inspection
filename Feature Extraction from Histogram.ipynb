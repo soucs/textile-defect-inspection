{
 "cells": [
  {
   "cell_type": "code",
   "execution_count": 23,
   "id": "baa81110",
   "metadata": {},
   "outputs": [
    {
     "name": "stdout",
     "output_type": "stream",
     "text": [
      "Accuracy Score 0.3333333333333333\n"
     ]
    }
   ],
   "source": [
    "# Feature extraction using gray level histogram\n",
    "\n",
    "import numpy as np\n",
    "import cv2 \n",
    "import matplotlib.pyplot as plt\n",
    "from sklearn.decomposition import PCA\n",
    "import h5py\n",
    "from sklearn.model_selection import train_test_split\n",
    "from sklearn.svm import SVC \n",
    "from sklearn.metrics import accuracy_score\n",
    "\n",
    "# label_dict = {'good':0, 'holes_cuts':1, 'threaderror':2, 'oilstains_colorerror':3, 'wrinkles':4, 'foreignbodies':5}\n",
    "file_path = r\"C:\\Users\\LENOVO\\CV\\Automated-Fabric-Defect-Inspection\\textile_defect_data.hdF5\"\n",
    "imgs = h5py.File(file_path)['jute_defect_imgs'][:]\n",
    "labels = h5py.File(file_path)['jute_defect_labels'][:]\n",
    "first_img = imgs[0];\n",
    "first_label = labels[0]\n",
    "\n",
    "\n",
    "#box filter\n",
    "filtered_images=[]\n",
    "for img in imgs:\n",
    "    kernel =np.ones((3,3),np.float32)/9\n",
    "    filtered_image=cv2.filter2D(img,-1,kernel)\n",
    "    filtered_images.append(filtered_image)\n",
    "    \n",
    "#histogram and feature vector\n",
    "histogram=[]\n",
    "feature_vectors=[]\n",
    "for img in imgs:\n",
    "#     gray=cv2.cvtColor(img,cv2.COLOR_BGR2GRAY)\n",
    "    hist=cv2.calcHist([img],[0],None,[256],[0,255])\n",
    "    hist_norm=hist/np.sum(hist)\n",
    "   \n",
    "    c1=np.argmax(hist_norm)\n",
    "    c2=np.min(hist_norm)\n",
    "    c3=np.max(hist_norm)\n",
    "    c4=(c3-c2)/255\n",
    "    c5=c4/c1\n",
    "    \n",
    "    histogram.append(hist_norm)\n",
    "    feature_vector=[c1,c2,c3,c4,c5]\n",
    "    feature_vectors.append(feature_vector)\n",
    "    \n",
    "feature_vectors=np.array(feature_vectors)    \n",
    "# print(feature_vectors.shape)\n",
    "\n",
    "# Principle components\n",
    "pca=PCA(n_components=3)\n",
    "principle_components=pca.fit_transform(feature_vectors)\n",
    "\n",
    "# svm\n",
    "x_train,x_test,y_train,y_test=train_test_split(principle_components,labels,test_size=0.25,random_state=42)\n",
    "classifier=SVC(kernel='linear',C=1,random_state=42)\n",
    "classifier.fit(x_train,y_train)\n",
    "\n",
    "y_pred=classifier.predict(x_test)\n",
    "\n",
    "print(\"Accuracy Score\",accuracy_score(y_test,y_pred))\n",
    "\n",
    "\n",
    "\n",
    "\n"
   ]
  }
 ],
 "metadata": {
  "kernelspec": {
   "display_name": "Python 3 (ipykernel)",
   "language": "python",
   "name": "python3"
  },
  "language_info": {
   "codemirror_mode": {
    "name": "ipython",
    "version": 3
   },
   "file_extension": ".py",
   "mimetype": "text/x-python",
   "name": "python",
   "nbconvert_exporter": "python",
   "pygments_lexer": "ipython3",
   "version": "3.9.13"
  }
 },
 "nbformat": 4,
 "nbformat_minor": 5
}
