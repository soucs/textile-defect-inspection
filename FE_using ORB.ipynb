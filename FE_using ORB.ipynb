{
 "cells": [
  {
   "cell_type": "code",
   "execution_count": 13,
   "id": "8cf48489",
   "metadata": {},
   "outputs": [
    {
     "name": "stdout",
     "output_type": "stream",
     "text": [
      "Accuracy Score 0.41333333333333333\n"
     ]
    }
   ],
   "source": [
    "import numpy as np\n",
    "import cv2 \n",
    "import matplotlib.pyplot as plt\n",
    "from sklearn.decomposition import PCA\n",
    "import h5py\n",
    "from sklearn.model_selection import train_test_split\n",
    "from sklearn.svm import SVC \n",
    "from sklearn.metrics import accuracy_score\n",
    "\n",
    "# label_dict = {'good':0, 'holes_cuts':1, 'threaderror':2, 'oilstains_colorerror':3, 'wrinkles':4, 'foreignbodies':5}\n",
    "file_path = r\"C:\\Users\\LENOVO\\CV\\Automated-Fabric-Defect-Inspection\\textile_defect_data.hdF5\"\n",
    "imgs = h5py.File(file_path)['jute_defect_imgs'][:]\n",
    "labels = h5py.File(file_path)['jute_defect_labels'][:]\n",
    "\n",
    "feature_vectors=[]\n",
    "\n",
    "for img in imgs:\n",
    "\n",
    "\n",
    "    # img = cv2.imread(r'E:\\wallpaper\\427a0223-bc04-4e7e-9fd7-8cc287efb997.jpg')\n",
    "\n",
    "    #Initilaize orb detector\n",
    "\n",
    "    orb = cv2.ORB_create()\n",
    "\n",
    "    # Find the key points with orb\n",
    "    kp = orb.detect(img,None)\n",
    "\n",
    "    kp,des = orb.compute(img, kp)\n",
    "    \n",
    "    feature_vector =des.flatten()\n",
    "    feature_vectors.append(feature_vector)\n",
    "\n",
    "# print(des[0])    \n",
    "feature_vectors=np.array(feature_vectors) \n",
    "# print(np.shape(feature_vectors))  #(300, 16000)\n",
    "\n",
    "\n",
    "# cv2.imshow(\"images\",imgs[259]) \n",
    "# img2 = cv2.drawKeypoints(imgs[259], kp, 0, (0, 255, 0), flags=cv2.DRAW_MATCHES_FLAGS_DRAW_RICH_KEYPOINTS)\n",
    "# cv2.imshow(\"image\",img2)\n",
    "# cv2.waitKey(0)\n",
    "    \n",
    "# Principle components\n",
    "pca=PCA(n_components=50)\n",
    "principle_components=pca.fit_transform(feature_vectors)\n",
    "\n",
    "# svm\n",
    "x_train,x_test,y_train,y_test=train_test_split(principle_components,labels,test_size=0.25,shuffle=True,random_state=42)\n",
    "classifier=SVC(kernel='rbf',random_state=42)\n",
    "classifier.fit(x_train,y_train)\n",
    "\n",
    "y_pred=classifier.predict(x_test)\n",
    "\n",
    "print(\"Accuracy Score\",accuracy_score(y_test,y_pred))\n",
    "\n",
    "    "
   ]
  },
  {
   "cell_type": "code",
   "execution_count": null,
   "id": "3123a639",
   "metadata": {},
   "outputs": [],
   "source": []
  }
 ],
 "metadata": {
  "kernelspec": {
   "display_name": "Python 3 (ipykernel)",
   "language": "python",
   "name": "python3"
  },
  "language_info": {
   "codemirror_mode": {
    "name": "ipython",
    "version": 3
   },
   "file_extension": ".py",
   "mimetype": "text/x-python",
   "name": "python",
   "nbconvert_exporter": "python",
   "pygments_lexer": "ipython3",
   "version": "3.9.13"
  }
 },
 "nbformat": 4,
 "nbformat_minor": 5
}
