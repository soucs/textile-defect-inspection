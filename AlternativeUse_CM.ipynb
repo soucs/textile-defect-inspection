{
 "cells": [
  {
   "cell_type": "code",
   "execution_count": 45,
   "id": "afc1dba7",
   "metadata": {},
   "outputs": [
    {
     "name": "stdout",
     "output_type": "stream",
     "text": [
      "(4, 256, 256, 1, 1)\n"
     ]
    }
   ],
   "source": [
    "import numpy as np\n",
    "import cv2 \n",
    "import matplotlib.pyplot as plt\n",
    "from sklearn.decomposition import PCA\n",
    "import h5py\n",
    "from sklearn.model_selection import train_test_split\n",
    "from sklearn.svm import SVC \n",
    "from sklearn.metrics import accuracy_score\n",
    "from skimage.feature import graycoprops,graycomatrix\n",
    "\n",
    "\n",
    "# label_dict = {'good':0, 'holes_cuts':1, 'threaderror':2, 'oilstains_colorerror':3, 'wrinkles':4, 'foreignbodies':5}\n",
    "file_path = r\"C:\\Users\\LENOVO\\CV\\Automated-Fabric-Defect-Inspection\\textile_defect_data.hdF5\"\n",
    "imgs = h5py.File(file_path)['jute_defect_imgs'][:]\n",
    "labels = h5py.File(file_path)['jute_defect_labels'][:]\n",
    "\n",
    "def elemental_feature(matrix,weighting_function):\n",
    "    weighted_matrix = weighting_function(matrix)\n",
    "    efm = np.sum(weighted_matrix)\n",
    "    return efm\n",
    "\n",
    "\n",
    "\n",
    "#SGLDM\n",
    "for img in imgs:\n",
    "\n",
    "    displacements=[(1,0),(0,1),(1,1),(-1,1)]\n",
    "\n",
    "    sgldm = [] #D: 256x256 grayscale pixels\n",
    "    sgldm_matrices =[]\n",
    "    for dx,dy in displacements:\n",
    "        glcm=graycomatrix(img,[dx],[dy],levels=256,symmetric=True,normed =True)\n",
    "        sgldm.append(glcm)\n",
    "    sgdlm_matrices.append(sgldm)\n",
    "        \n",
    "print(np.shape(sgldm)) #(300, 4, 256, 256, 1, 1) 1:single channel\n",
    "    \n"
   ]
  },
  {
   "cell_type": "code",
   "execution_count": null,
   "id": "f01c9e9c",
   "metadata": {},
   "outputs": [],
   "source": []
  }
 ],
 "metadata": {
  "kernelspec": {
   "display_name": "Python 3 (ipykernel)",
   "language": "python",
   "name": "python3"
  },
  "language_info": {
   "codemirror_mode": {
    "name": "ipython",
    "version": 3
   },
   "file_extension": ".py",
   "mimetype": "text/x-python",
   "name": "python",
   "nbconvert_exporter": "python",
   "pygments_lexer": "ipython3",
   "version": "3.9.13"
  }
 },
 "nbformat": 4,
 "nbformat_minor": 5
}
